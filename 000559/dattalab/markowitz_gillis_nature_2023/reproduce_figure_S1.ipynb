{
 "cells": [
  {
   "cell_type": "code",
   "execution_count": 4,
   "metadata": {},
   "outputs": [
    {
     "data": {
      "text/plain": [
       "root pynwb.file.NWBFile at 0x140208660583168\n",
       "Fields:\n",
       "  acquisition: {\n",
       "    Images <class 'pynwb.base.Images'>,\n",
       "    Reference1PSeries <class 'pynwb.ophys.OnePhotonSeries'>,\n",
       "    Signal1PSeries <class 'pynwb.ophys.OnePhotonSeries'>\n",
       "  }\n",
       "  devices: {\n",
       "    Microscope <class 'pynwb.device.Device'>\n",
       "  }\n",
       "  experiment_description: Abstract -- Spontaneous animal behaviour is built from action modules that are concatenated by the brain into sequences1,2. However, the neural mechanisms that guide the composition of naturalistic, self-motivated behaviour remain unknown. Here we show that dopamine systematically fluctuates in the dorsolateral striatum (DLS) as mice spontaneously express sub-second behavioural modules, despite the absence of task structure, sensory cues or exogenous reward. Photometric recordings and calibrated closed-loop optogenetic manipulations during open field behaviour demonstrate that DLS dopamine fluctuations increase sequence variation over seconds, reinforce the use of associated behavioural modules over minutes, and modulate the vigour with which modules are expressed, without directly influencing movement initiation or moment-to-moment kinematics. Although the reinforcing effects of optogenetic DLS dopamine manipulations vary across behavioural modules and individual mice, these differences are well predicted by observed variation in the relationships between endogenous dopamine and module use. Consistent with the possibility that DLS dopamine fluctuations act as a teaching signal, mice build sequences during exploration as if to maximize dopamine. Together, these findings suggest a model in which the same circuits and computations that govern action choices in structured tasks have a key role in sculpting the content of unconstrained, high-dimensional, spontaneous behaviour.\n",
       "  experimenter: ['Markowitz, Jeffrey E.' 'Gillis, Winthrop F.' 'Jay, Maya' 'Wood, Jeffrey'\n",
       " 'Harris, Ryley W.' 'Cieszkowski, Robert' 'Scott, Rebecca' 'Brann, David'\n",
       " 'Koveal, Dorothy' 'Kula, Tomasz' 'Weinreb, Caleb'\n",
       " 'Osman, Mohammed Abdal Monium' 'Pinto, Sandra Romero' 'Uchida, Naoshige'\n",
       " 'Linderman, Scott W.' 'Sabatini, Bernardo L.' 'Datta, Sandeep Robert']\n",
       "  file_create_date: [datetime.datetime(2023, 8, 22, 10, 11, 1, 747878, tzinfo=tzoffset(None, -25200))]\n",
       "  identifier: exp3\n",
       "  imaging_planes: {\n",
       "    ReferenceImagingPlane <class 'pynwb.ophys.ImagingPlane'>,\n",
       "    SignalImagingPlane <class 'pynwb.ophys.ImagingPlane'>\n",
       "  }\n",
       "  institution: Harvard Medical School\n",
       "  lab: Datta\n",
       "  related_publications: ['https://doi.org/10.1038/s41586-022-05611-2']\n",
       "  session_description: To test whether UV excitation could be a suitable reference wavelength for dLight1.1, HEK 293 cells (ATCC, cells were validated by ATCC via short tandem repeat analysis and were not tested for mycoplasma) were transfected with the dLight1.1 plasmid (Addgene 111067-AAV5) using Mirus TransIT-LT1 (MIR 2304). Cells were imaged using an Olympus BX51W I upright microscope and a LUMPlanFl/IR 60×/0.90W objective. Excitation light was delivered by an AURA light engine (Lumencor) at 400 and 480nm with 50ms exposure time. Emission light was split with an FF395/495/610-Di01 dichroic mirror and bandpass filtered with an FF01-425/527/685 filter (all filter optics from Semrock). Images were collected with a CCD camera (IMAGO-QE, Thermo Fisher Scientific), at a rate of one frame every two seconds, alternating the excitation wavelengths in each frame.\n",
       "  session_id: exp3\n",
       "  session_start_time: 2021-07-16 11:09:31-04:56\n",
       "  subject: subject pynwb.file.Subject at 0x140208664838208\n",
       "Fields:\n",
       "  age: P0M/\n",
       "  age__reference: gestational\n",
       "  description: HEK 293 cells (ATCC, cells were validated by ATCC via short tandem repeat analysis and were not tested for mycoplasma) were transfected with the dLight1.1 plasmid (Addgene 111067-AAV5) using Mirus TransIT-LT1 (MIR 2304).\n",
       "  sex: F\n",
       "  species: Homo sapiens\n",
       "  subject_id: HEK293\n",
       "\n",
       "  timestamps_reference_time: 2021-07-16 11:09:31-04:56"
      ]
     },
     "execution_count": 4,
     "metadata": {},
     "output_type": "execute_result"
    }
   ],
   "source": [
    "from pathlib import Path\n",
    "import re\n",
    "\n",
    "import pandas as pd\n",
    "import numpy as np\n",
    "\n",
    "from pynwb import NWBHDF5IO\n",
    "from fsspec import filesystem\n",
    "from h5py import File\n",
    "from dandi.dandiapi import DandiAPIClient\n",
    "\n",
    "DANDISET_ID = '000559'\n",
    "file_path = 'sub-HEK293/sub-HEK293_ses-exp3_ophys.nwb'\n",
    "\n",
    "with DandiAPIClient() as client:\n",
    "    asset = client.get_dandiset(DANDISET_ID, 'draft').get_asset_by_path(file_path)\n",
    "    s3_url = asset.get_content_url(follow_redirects=1, strip_query=True)\n",
    "fs = filesystem(\"http\")\n",
    "file_system = fs.open(s3_url, \"rb\")\n",
    "file = File(file_system, mode=\"r\")\n",
    "\n",
    "with NWBHDF5IO(file=file, load_namespaces=True) as io:\n",
    "    nwbfile = io.read()\n",
    "nwbfile"
   ]
  },
  {
   "cell_type": "code",
   "execution_count": null,
   "metadata": {},
   "outputs": [],
   "source": []
  }
 ],
 "metadata": {
  "kernelspec": {
   "display_name": "datta_env",
   "language": "python",
   "name": "python3"
  },
  "language_info": {
   "codemirror_mode": {
    "name": "ipython",
    "version": 3
   },
   "file_extension": ".py",
   "mimetype": "text/x-python",
   "name": "python",
   "nbconvert_exporter": "python",
   "pygments_lexer": "ipython3",
   "version": "3.10.0"
  }
 },
 "nbformat": 4,
 "nbformat_minor": 2
}
